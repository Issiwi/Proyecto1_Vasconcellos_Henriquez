{
  "cells": [
    {
      "cell_type": "code",
      "execution_count": 1,
      "id": "60b03d64-e47c-4363-812a-4e73ceb42294",
      "metadata": {
        "ExecuteTime": {
          "end_time": "2023-07-01T23:46:57.839765+00:00",
          "start_time": "2023-07-01T23:46:57.275867+00:00"
        },
        "jupyter": {
          "outputs_hidden": false,
          "source_hidden": false
        },
        "noteable": {
          "cell_type": "code",
          "output_collection_id": "5273ef07-884f-430e-b8a8-56f97e50f01c"
        }
      },
      "outputs": [],
      "source": [
        "#Bibliotecas\n",
        "import pandas as pd\n",
        "import numpy as np\n",
        "from sklearn.feature_extraction.text import TfidfVectorizer\n",
        "from sklearn.metrics.pairwise import cosine_similarity"
      ]
    },
    {
      "cell_type": "code",
      "execution_count": 2,
      "id": "1d5f4e41-3b3f-4325-a797-4093589505d2",
      "metadata": {
        "ExecuteTime": {
          "end_time": "2023-07-01T23:48:03.848183+00:00",
          "start_time": "2023-07-01T23:47:00.140728+00:00"
        },
        "jupyter": {
          "outputs_hidden": false,
          "source_hidden": false
        },
        "noteable": {
          "cell_type": "code",
          "output_collection_id": "73d2ca83-5eb8-4f79-89b5-70e4bf5cdea9"
        }
      },
      "outputs": [],
      "source": [
        "#Leer Dataframes\n",
        "books = pd.read_excel('books_data.xlsx')\n",
        "ratings = pd.read_excel('Books_rating.xlsx')"
      ]
    },
    {
      "cell_type": "code",
      "execution_count": 3,
      "id": "7fb9605f",
      "metadata": {},
      "outputs": [
        {
          "name": "stdout",
          "output_type": "stream",
          "text": [
            "212404\n",
            "1048575\n"
          ]
        }
      ],
      "source": [
        "print(len(books))   #número de filas del dataframe books\n",
        "print(len(ratings)) #número de filas del dataframe ratings"
      ]
    },
    {
      "cell_type": "code",
      "execution_count": 4,
      "id": "d40b907b",
      "metadata": {},
      "outputs": [],
      "source": [
        "books = books[['Title','description','categories']]\n",
        "ratings = ratings[['Title','User_id','review/score']]\n",
        "books = books.dropna().reset_index()\n",
        "ratings = ratings.dropna().reset_index()"
      ]
    },
    {
      "cell_type": "code",
      "execution_count": 5,
      "id": "7fcf299d",
      "metadata": {},
      "outputs": [],
      "source": [
        "books=books.sample(n=30000, random_state=42).reset_index() #solo tomamos 100000 filas del dataframe books porque el codigo no carga mas adelante con mas datos"
      ]
    },
    {
      "cell_type": "code",
      "execution_count": 6,
      "id": "871f09bf",
      "metadata": {},
      "outputs": [],
      "source": [
        "ratings=ratings[ratings['Title'].isin(books['Title'])] # filtramos el dataframe con los ratings solo a los libros de los que tenemos calificaciones"
      ]
    },
    {
      "cell_type": "code",
      "execution_count": 7,
      "id": "00b28c7a",
      "metadata": {},
      "outputs": [],
      "source": [
        "ratings=ratings.sample(n=30000, random_state=42).reset_index()"
      ]
    },
    {
      "cell_type": "code",
      "execution_count": 8,
      "id": "a24a2408",
      "metadata": {},
      "outputs": [
        {
          "name": "stdout",
          "output_type": "stream",
          "text": [
            "30000\n",
            "30000\n"
          ]
        }
      ],
      "source": [
        "print(len(books))   #número de filas del dataframe books para corroborar la cantidad de filas\n",
        "print(len(ratings)) #número de filas del dataframe ratings para corroborar la cantidad de filas"
      ]
    },
    {
      "cell_type": "code",
      "execution_count": 9,
      "id": "56eed2b0-8223-48cf-af57-c6e72814382f",
      "metadata": {
        "ExecuteTime": {
          "end_time": "2023-07-01T23:48:15.979188+00:00",
          "start_time": "2023-07-01T23:48:15.820766+00:00"
        },
        "jupyter": {
          "outputs_hidden": false,
          "source_hidden": false
        },
        "noteable": {
          "cell_type": "code",
          "output_collection_id": "736f935c-1341-4918-b0d2-a4621b7abf60"
        },
        "scrolled": false
      },
      "outputs": [
        {
          "name": "stdout",
          "output_type": "stream",
          "text": [
            "Index(['level_0', 'index', 'Title', 'description', 'categories'], dtype='object')\n",
            "(30000, 5)\n",
            "Index(['level_0', 'index', 'Title', 'User_id', 'review/score'], dtype='object')\n",
            "(30000, 5)\n",
            "<class 'pandas.core.frame.DataFrame'>\n",
            "RangeIndex: 30000 entries, 0 to 29999\n",
            "Data columns (total 5 columns):\n",
            " #   Column       Non-Null Count  Dtype \n",
            "---  ------       --------------  ----- \n",
            " 0   level_0      30000 non-null  int64 \n",
            " 1   index        30000 non-null  int64 \n",
            " 2   Title        30000 non-null  object\n",
            " 3   description  30000 non-null  object\n",
            " 4   categories   30000 non-null  object\n",
            "dtypes: int64(2), object(3)\n",
            "memory usage: 1.1+ MB\n",
            "None\n",
            "<class 'pandas.core.frame.DataFrame'>\n",
            "RangeIndex: 30000 entries, 0 to 29999\n",
            "Data columns (total 5 columns):\n",
            " #   Column        Non-Null Count  Dtype \n",
            "---  ------        --------------  ----- \n",
            " 0   level_0       30000 non-null  int64 \n",
            " 1   index         30000 non-null  int64 \n",
            " 2   Title         30000 non-null  object\n",
            " 3   User_id       30000 non-null  object\n",
            " 4   review/score  30000 non-null  int64 \n",
            "dtypes: int64(3), object(2)\n",
            "memory usage: 1.1+ MB\n",
            "None\n"
          ]
        }
      ],
      "source": [
        "#Analizamos los dataframes\n",
        "print(books.columns)\n",
        "print(books.shape)\n",
        "print(ratings.columns)\n",
        "print(ratings.shape)\n",
        "print(books.info())\n",
        "print(ratings.info())"
      ]
    },
    {
      "cell_type": "code",
      "execution_count": 10,
      "id": "aebed77f-b490-4a2b-bc98-a46232538241",
      "metadata": {
        "ExecuteTime": {
          "end_time": "2023-07-01T23:48:23.335020+00:00",
          "start_time": "2023-07-01T23:48:22.666439+00:00"
        },
        "jupyter": {
          "outputs_hidden": false,
          "source_hidden": false
        },
        "noteable": {
          "cell_type": "code",
          "output_collection_id": "633d16df-6ad4-47a0-800e-4738b2b95b08"
        }
      },
      "outputs": [
        {
          "name": "stdout",
          "output_type": "stream",
          "text": [
            "   level_0   index                                              Title  \\\n",
            "0    25417   35577                                    Rampaging Bulls   \n",
            "1    92790  140829            The Principles of Statistical Mechanics   \n",
            "2    35349   50009  Financial Engineering and Computation: Princip...   \n",
            "3    25845   36168  Adobe Scripting: Your Visual Blueprint to Scri...   \n",
            "4   123605  187497  Diagnosing and Treating Codependence: A Guide ...   \n",
            "\n",
            "                                         description        categories  \n",
            "0  Rampaging Bulls, written by an investor and wr...  ['Penny stocks']  \n",
            "1  This is the definitive treatise on the fundame...       ['Science']  \n",
            "2  Students and professionals intending to work i...   ['Mathematics']  \n",
            "3  * Written by New York graphic design professio...     ['Computers']  \n",
            "4  In Practicing Prodependence: The Clinical Alte...    ['Psychology']  \n",
            "   level_0   index                                              Title  \\\n",
            "0   695974  860439   A Drummer's Beat to Mend (Love Spectrum Romance)   \n",
            "1   246435  305330  In Cold Blood: A True Account of a Multiple Mu...   \n",
            "2    56975   70865                         Night Watch: Discworld #27   \n",
            "3   561604  696563  The African Grey: An Owner's Guide to a Happy ...   \n",
            "4   352512  437480  How to Win Friends & Influence People (Cardina...   \n",
            "\n",
            "          User_id  review/score  \n",
            "0   A26WDKOESPDMD            50  \n",
            "1  A16FABIKXTPCLK            50  \n",
            "2  A2MRR9PBCDQ3SZ            50  \n",
            "3  A2BD12CY0NO0C4            50  \n",
            "4  A1JENWNI6Q5HXA            50  \n"
          ]
        }
      ],
      "source": [
        "print(books.head())\n",
        "print(ratings.head())"
      ]
    },
    {
      "attachments": {},
      "cell_type": "markdown",
      "id": "b8601346-ed86-43f8-b631-668ffc57e8ec",
      "metadata": {
        "noteable": {
          "cell_type": "markdown"
        }
      },
      "source": [
        "### Primero realizamos un sistema de recomendación basado en contenido para esto utilizaremos el dataframe \"Books\" ya que necesitamos las características de los libros, el cual en este dataframe esta informacion se encuentra en la descripción, para calcular la similitud entre ellos y recomendar elementos similares"
      ]
    },
    {
      "attachments": {},
      "cell_type": "markdown",
      "id": "076ebe0b-3fa5-4ed1-a725-dfcc01b7be35",
      "metadata": {
        "noteable": {
          "cell_type": "markdown"
        }
      },
      "source": [
        "Las columnas de nuestro interés para hacer las recomendaciones son 'description' y 'categories' asi que las combinaremos"
      ]
    },
    {
      "cell_type": "code",
      "execution_count": 11,
      "id": "3549d900-0951-45f9-a791-5ef116ec7bbf",
      "metadata": {
        "ExecuteTime": {
          "end_time": "2023-07-01T23:48:30.912229+00:00",
          "start_time": "2023-07-01T23:48:30.413324+00:00"
        },
        "jupyter": {
          "outputs_hidden": false,
          "source_hidden": false
        },
        "noteable": {
          "cell_type": "code",
          "output_collection_id": "d4638766-d99c-4114-9dd2-2235ab712311"
        }
      },
      "outputs": [
        {
          "name": "stdout",
          "output_type": "stream",
          "text": [
            "18040    ['Fiction\n",
            "Name: categories, dtype: object\n",
            "13152    Effectively integrating grammar instruction wi...\n",
            "Name: description, dtype: object\n"
          ]
        }
      ],
      "source": [
        "#Los datos de la columna categories tienen el siguiente formato: '['Comics & Graphic Novels']' por lo que eliminaremos los simbolos [' y ']\n",
        "#Por otro lado de la columna 'description' quitaremos los puntos y comas todo esto con el fin de que el código pueda relacionar el conteido correctamente y no descarte similitudes por un punto entre palabras \n",
        "\n",
        "books['categories'] = books['categories'].str.replace(\"\\']\", '').str.replace(\"\\['\", '')\n",
        "books['description'] = books['description'].str.replace(\"\\.\", '').str.replace(\"\\,\", '')\n",
        "#Observamos como quedan las columna pidiendole UN valor de cada una como ejemplo\n",
        "print(books['categories'].sample(1))\n",
        "print(books['description'].sample(1))"
      ]
    },
    {
      "cell_type": "code",
      "execution_count": 12,
      "id": "b47f51d1-778f-41f9-8fac-e36ebf014da4",
      "metadata": {
        "ExecuteTime": {
          "end_time": "2023-07-01T23:48:34.335534+00:00",
          "start_time": "2023-07-01T23:48:34.117489+00:00"
        },
        "jupyter": {
          "outputs_hidden": false,
          "source_hidden": false
        },
        "noteable": {
          "cell_type": "code",
          "output_collection_id": "16296842-c96f-4432-ab64-a34e77421e29"
        }
      },
      "outputs": [
        {
          "name": "stdout",
          "output_type": "stream",
          "text": [
            "10145    Often viewed as nostalgic and inauthentic, the...\n",
            "Name: combined, dtype: object\n"
          ]
        }
      ],
      "source": [
        "# Combinamos columnas 'description' y 'categories' para nuestras recomendaciones\n",
        "books['combined'] = books['description'] + ' ' + books['categories']\n",
        "print(books['combined'].sample(1))"
      ]
    },
    {
      "cell_type": "code",
      "execution_count": 13,
      "id": "4cad2cdb-cf1c-44de-b64b-07297a983a61",
      "metadata": {
        "ExecuteTime": {
          "end_time": "2023-07-01T23:48:44.020048+00:00",
          "start_time": "2023-07-01T23:48:39.307091+00:00"
        },
        "jupyter": {
          "outputs_hidden": false,
          "source_hidden": false
        },
        "noteable": {
          "cell_type": "code",
          "output_collection_id": "75215fe4-3c81-45a1-ab7b-17a08e34d461"
        }
      },
      "outputs": [],
      "source": [
        "#Ahora vamos a vamos a representar los items en un formato que la máquina pueda entender, Con la vectorización. Para convertir texto en una representación numérica \n",
        "count = TfidfVectorizer()\n",
        "count_matrix = count.fit_transform(books['combined'])"
      ]
    },
    {
      "cell_type": "code",
      "execution_count": 14,
      "id": "07a0a59a-12dc-4cc3-9057-d0f47e3af80b",
      "metadata": {
        "ExecuteTime": null,
        "jupyter": {
          "outputs_hidden": false,
          "source_hidden": false
        },
        "noteable": {
          "cell_type": "code",
          "output_collection_id": "494455a9-4c6f-4a65-afe5-a18ebe2c4ac3"
        }
      },
      "outputs": [],
      "source": [
        "# Calcular la similitud entre las descripciones de los libros\n",
        "# Usaremos la similitud del coseno\n",
        "similarity = cosine_similarity(count_matrix,count_matrix)"
      ]
    },
    {
      "cell_type": "code",
      "execution_count": 17,
      "id": "befbc921-423c-4559-81ab-a66d14d37502",
      "metadata": {
        "ExecuteTime": {
          "end_time": "2023-07-01T23:51:22.290826+00:00",
          "start_time": "2023-07-01T23:51:22.127868+00:00"
        },
        "jupyter": {
          "outputs_hidden": false,
          "source_hidden": false
        },
        "noteable": {
          "cell_type": "code",
          "output_collection_id": "ce45d759-7aac-42c9-9398-35af6d8581b1"
        }
      },
      "outputs": [],
      "source": [
        "#Ahora crearemos una fucnión que a agregar el título de un libro devuelva los libros mas similares a el \n",
        "def recommendations(Title, similarity):\n",
        "    recommended_books = []\n",
        "\n",
        "    # Verificar si el título está presente en el DataFrame\n",
        "    if Title in books['Title'].values:\n",
        "        # Obtenemos el índice del libro que coincide con el elegido\n",
        "        indice = books[books['Title'] == Title].index[0]\n",
        "\n",
        "        # Obtenemos los scores de similitud de coseno para ese libro con todos los libros\n",
        "        score_series = pd.Series(similarity[indice]).sort_values(ascending=False)\n",
        "\n",
        "        # Obtenemos los 10 indices de libros con mayor similitud\n",
        "        top_10 = list(score_series.iloc[1:11].index)\n",
        "\n",
        "        for i in top_10:\n",
        "            recommended_books.append(books['Title'][i])\n",
        "    else:\n",
        "        print(\"El título del libro no se encuentra en los datos.\")\n",
        "\n",
        "    return recommended_books"
      ]
    },
    {
      "cell_type": "code",
      "execution_count": 18,
      "id": "61040fa4",
      "metadata": {
        "ExecuteTime": {
          "end_time": "2023-07-01T23:51:33.151614+00:00",
          "start_time": "2023-07-01T23:51:32.620762+00:00"
        },
        "noteable": {
          "output_collection_id": "cc5603dc-ffc8-47b9-9208-0bf5dfaf2fc0"
        },
        "scrolled": true
      },
      "outputs": [
        {
          "name": "stdout",
          "output_type": "stream",
          "text": [
            "Libros recomendados para 'Banishment':\n",
            "Rebels with a Cause: The Minds and Morality of Political Offenders\n",
            "Historic Towns of the Western States\n",
            "Historic towns of the western states\n",
            "Pueblo, Hardscrabble, Greenhorn: Society on the High Plains, 1832-1856\n",
            "Kinkeeper (New Women's Voices Series, No. 18)\n",
            "The Maritime History of the World **Volumes 1 & 2**\n",
            "Colonial Odysseys: Empire and Epic in the Modernist Novel\n",
            "The History of Government from the Earliest Times: Ancient Monarchies and Empires; The Intermediate Ages; Empires, Monarchies and the Modern State (3 Volume Set)\n",
            "The Italian Boy: A Tale of Murder and Body Snatching in 1830s London\n",
            "Gentle Invaders: Quaker Women Educators and Racial Issues During the Civil War and Reconstruction\n"
          ]
        }
      ],
      "source": [
        "book_title = 'Banishment'\n",
        "recommended__books = recommendations(book_title, similarity=similarity)\n",
        "\n",
        "print(f\"Libros recomendados para '{book_title}':\")\n",
        "for book in recommended__books:\n",
        "    print(book)"
      ]
    },
    {
      "attachments": {},
      "cell_type": "markdown",
      "id": "7615aed9-249b-4bbf-a817-da3be8c8a388",
      "metadata": {
        "noteable": {
          "cell_type": "markdown"
        }
      },
      "source": [
        "### Ahora realizamos un sistema de recomendación de filtro colaborativo para esto utilizaremos el dataframe \"Ratings\" ya que necesitamos información sobre las interacciones entre usuarios y libros, como las calificaciones o las compras realizadas."
      ]
    },
    {
      "attachments": {},
      "cell_type": "markdown",
      "id": "978c5a54-176c-4a55-9838-ec6cdd8f45e6",
      "metadata": {
        "noteable": {
          "cell_type": "markdown"
        }
      },
      "source": [
        "Las columnas de nuestro interés para hacer las recomendaciones son 'description' y 'categories' asi que las combinaremos"
      ]
    },
    {
      "cell_type": "code",
      "execution_count": 130,
      "id": "79f3722c-d40c-406c-a363-449c7daba49e",
      "metadata": {
        "ExecuteTime": {
          "end_time": "2023-07-01T05:57:44.304135+00:00",
          "start_time": "2023-07-01T05:57:43.014594+00:00"
        },
        "jupyter": {
          "outputs_hidden": false,
          "source_hidden": false
        },
        "noteable": {
          "cell_type": "code",
          "output_collection_id": "066291e9-c0b1-4a90-9dde-a26c68264874"
        }
      },
      "outputs": [],
      "source": [
        "# Creamos una matriz de puntaje, para eso utilizamos los Id de usuario como index y el Titulo de libro como columnas y el contenido las reviews\n",
        "ratings_matrix = ratings.pivot_table(index='User_id',columns='Title', values='review/score',aggfunc='mean').fillna(0)"
      ]
    },
    {
      "cell_type": "code",
      "execution_count": 48,
      "id": "2320a75d-b121-40fe-a29f-7dddeebb904a",
      "metadata": {
        "ExecuteTime": null,
        "jupyter": {
          "outputs_hidden": false,
          "source_hidden": false
        },
        "noteable": {
          "cell_type": "code",
          "output_collection_id": "0c0e6158-bb77-4437-b624-0aba8e8ace54"
        }
      },
      "outputs": [],
      "source": [
        "# Calculamos la similitud entre usuarios basada en las calificaciones utilizando la similitud del coseno\n",
        "User_similarity = cosine_similarity(ratings_matrix.fillna(0))"
      ]
    },
    {
      "cell_type": "code",
      "execution_count": 135,
      "id": "b0c2ef67-93c7-4179-a376-cfa8672bf711",
      "metadata": {
        "jupyter": {
          "outputs_hidden": false,
          "source_hidden": false
        },
        "noteable": {
          "cell_type": "code"
        }
      },
      "outputs": [],
      "source": [
        "def collaborative_filtering(User_id, ratings_matrix, User_similarity, top_n=10):\n",
        "    # Obtener el índice numérico correspondiente al ID del usuario\n",
        "    User_index = ratings_matrix.index.get_loc(User_id)\n",
        "    \n",
        "    # Obtener las similitudes del usuario dado con todos los usuarios\n",
        "    User_similarities = User_similarity[User_index]\n",
        "    \n",
        "    # Obtener los índices de los usuarios más similares al usuario dado (excluyendo al usuario dado)\n",
        "    similar_user_indices = np.argsort(User_similarities)[::-1][1:top_n+1]\n",
        "    \n",
        "    # Obtener las calificaciones del usuario dado\n",
        "    User_ratings = ratings_matrix.iloc[User_index].fillna(0)\n",
        "    \n",
        "    # Obtener las calificaciones promedio de los usuarios similares\n",
        "    similar_users_ratings = ratings_matrix.iloc[similar_user_indices].mean()\n",
        "    \n",
        "    # Obtener los libros que los usuarios similares han calificado positivamente y que el usuario dado no ha calificado\n",
        "    recommended_books = similar_users_ratings[User_ratings == 0].sort_values(ascending=False)[:top_n]\n",
        "    \n",
        "    return recommended_books.index"
      ]
    },
    {
      "cell_type": "code",
      "execution_count": 136,
      "id": "4e03a070",
      "metadata": {
        "noteable": {
          "output_collection_id": "dda9edc7-2b11-4db2-af65-b990d7613d5c"
        }
      },
      "outputs": [
        {
          "name": "stdout",
          "output_type": "stream",
          "text": [
            "Recomendaciones para el usuario A1CNQTCRQ35IMM:\n",
            "\"THE GOBLET AND THE RESTLESS GHOST\"\n",
            "Starburst\n",
            "Statistical Inference: An Integrated Approach (Chapman & Hall/CRC Texts in Statistical Science Series)\n",
            "Statistical Analysis in Climate Research\n",
            "Statistical Analyses for Language Assessment Workbook and CD ROM (Cambridge Language Assessment)\n",
            "Stash Envy\n",
            "Start Your Own Specialty Travel & Tour Business (Start Your Own Specialty Travel & Tour Business)\n",
            "Start Making Sense: Turning the Lessons of Election 2004 into Winning Progressive Politics\n",
            "Stars (Gem)\n",
            "Starlight\n"
          ]
        }
      ],
      "source": [
        "User_id = 'A1CNQTCRQ35IMM'\n",
        "recommended_books = collaborative_filtering(User_id, ratings_matrix, User_similarity=User_similarity)\n",
        "print(f\"Recomendaciones para el usuario {User_id}:\")\n",
        "for Title in recommended_books:\n",
        "    print(Title)"
      ]
    },
    {
      "attachments": {},
      "cell_type": "markdown",
      "id": "53126a80",
      "metadata": {},
      "source": [
        "## Evaluar los sistemas\n"
      ]
    },
    {
      "cell_type": "code",
      "execution_count": 163,
      "id": "ea41aafb",
      "metadata": {},
      "outputs": [],
      "source": [
        "#Definimos la funcion para calcular la precisión k para el modelo basado en contenido\n",
        "def precision_k(recommended_books, test_ratings, k):\n",
        "    # Tomar los primeros k elementos de los libros recomendados\n",
        "    recommended_k = recommended_books[:k]\n",
        "    \n",
        "    # Calcular la intersección entre los libros recomendados y los libros reales\n",
        "    intersection = set(recommended_k) & set(lista_real)\n",
        "    \n",
        "    # Calcular la precisión en k\n",
        "    precision = len(intersection) / k\n",
        "    \n",
        "    return precision\n",
        "\n",
        "#Definimos la funcion para calcular la precisión k para el modelo de filtro colaborativo\n",
        "\n",
        "def precision_at_k(User_id, recommended_books, test_ratings, k):\n",
        "    # Filtrar las calificaciones de prueba para el usuario dado\n",
        "    test_user_ratings = test_ratings[test_ratings['User_id'] == User_id]\n",
        "    \n",
        "    # Obtener los libros verdaderamente relevantes (calificados positivamente) por el usuario en los datos de prueba\n",
        "    relevant_books = test_user_ratings[test_user_ratings['Title'].isin(recommended_books)]\n",
        "    \n",
        "    # Calcular la precisión en k\n",
        "    precision = len(relevant_books) / k\n",
        "    \n",
        "    return precision\n"
      ]
    },
    {
      "cell_type": "code",
      "execution_count": 164,
      "id": "901c8b18",
      "metadata": {},
      "outputs": [],
      "source": [
        "books['Title'] = books['Title'].str.replace(\"\\'\", '') #Elimina caracteres que pueden molestar en el código \n"
      ]
    },
    {
      "cell_type": "code",
      "execution_count": 166,
      "id": "f41d41cf",
      "metadata": {},
      "outputs": [
        {
          "name": "stdout",
          "output_type": "stream",
          "text": [
            "20875    A3RAT5GIH32UNM\n",
            "Name: User_id, dtype: object\n"
          ]
        }
      ],
      "source": [
        "print(ratings['User_id'].sample(1)) #para sacar un ejemplo de usuario real"
      ]
    },
    {
      "cell_type": "code",
      "execution_count": 189,
      "id": "646a3063",
      "metadata": {},
      "outputs": [
        {
          "name": "stdout",
          "output_type": "stream",
          "text": [
            "['Saving Grace', 'Little Women', 'Carrie', 'The Girl Who Loved Tom Gordon', 'Dead Cert', 'Running Blind', 'Visitor', 'Hot Shot']\n"
          ]
        }
      ],
      "source": [
        "\n",
        "User_id = 'A1CNQTCRQ35IMM'\n",
        "test_ratings = lista_real(User_id)\n",
        "print(test_ratings)\n"
      ]
    },
    {
      "cell_type": "code",
      "execution_count": 190,
      "id": "06b4dd8d",
      "metadata": {},
      "outputs": [
        {
          "name": "stdout",
          "output_type": "stream",
          "text": [
            "Saving Grace\n"
          ]
        }
      ],
      "source": [
        "book_title = test_ratings[0] #toma el primer libro de la lista para sacar las recomendaciones\n",
        "print(book_title)"
      ]
    },
    {
      "cell_type": "code",
      "execution_count": 191,
      "id": "754d1308",
      "metadata": {},
      "outputs": [
        {
          "name": "stdout",
          "output_type": "stream",
          "text": [
            "Libros recomendados para 'Saving Grace':\n",
            "Society: The Basics (6th Edition)\n",
            "The Book of Understanding: Creating Your Own Path to Freedom\n",
            "Grace and Truth\n",
            "Unnatural Affection\n",
            "The Beauty of the Beast: Breathing New Life Into Organizations\n",
            "Beyond the Twelve Steps: Roadmap to a New Life\n",
            "Alias Grace: Complete & Unabridged\n",
            "Love for an Enemy\n",
            "Interview With An American Monk\n",
            "Human/Nature\n"
          ]
        }
      ],
      "source": [
        "#libros recomendados para el modelo basado en contenido\n",
        "recommended_books_content_based = recommendations(book_title, similarity=similarity)\n",
        "print(f\"Libros recomendados para '{book_title}':\")\n",
        "for book in recommended_books_content_based:\n",
        "    print(book)"
      ]
    },
    {
      "cell_type": "code",
      "execution_count": 188,
      "id": "0e64d5bb",
      "metadata": {},
      "outputs": [
        {
          "name": "stdout",
          "output_type": "stream",
          "text": [
            "Recomendaciones para el usuario A1CNQTCRQ35IMM:\n",
            "\"THE GOBLET AND THE RESTLESS GHOST\"\n",
            "Starburst\n",
            "Statistical Inference: An Integrated Approach (Chapman & Hall/CRC Texts in Statistical Science Series)\n",
            "Statistical Analysis in Climate Research\n",
            "Statistical Analyses for Language Assessment Workbook and CD ROM (Cambridge Language Assessment)\n",
            "Stash Envy\n",
            "Start Your Own Specialty Travel & Tour Business (Start Your Own Specialty Travel & Tour Business)\n",
            "Start Making Sense: Turning the Lessons of Election 2004 into Winning Progressive Politics\n",
            "Stars (Gem)\n",
            "Starlight\n"
          ]
        }
      ],
      "source": [
        "#libros recomendados para el modelo basado en filtro colaborativo\n",
        "recommended_books_collaborative_filtering = collaborative_filtering(User_id, ratings_matrix, User_similarity=User_similarity)\n",
        "print(f\"Recomendaciones para el usuario {User_id}:\")\n",
        "for Title in recommended_books_collaborative_filtering:\n",
        "    print(Title)"
      ]
    },
    {
      "cell_type": "code",
      "execution_count": 197,
      "id": "528781ca",
      "metadata": {},
      "outputs": [
        {
          "name": "stdout",
          "output_type": "stream",
          "text": [
            "0.0\n"
          ]
        }
      ],
      "source": [
        "#calculamos la presicion K para el modelo basado en contenido\n",
        "precision_content_based = precision_k(recommended_books_content_based, test_ratings)\n",
        "print(precision_content_based)"
      ]
    },
    {
      "cell_type": "code",
      "execution_count": 202,
      "id": "232cf497",
      "metadata": {},
      "outputs": [
        {
          "name": "stdout",
          "output_type": "stream",
          "text": [
            "0.0\n"
          ]
        }
      ],
      "source": [
        "#calculamos la presicion K para el modelo basado en filtro colaborativo\n",
        "k=10\n",
        "precision_collaborative_filtering = precision_at_k(User_id, recommended_books_collaborative_filtering, ratings, k)\n",
        "print(precision_collaborative_filtering)"
      ]
    },
    {
      "cell_type": "code",
      "execution_count": null,
      "id": "450440d1",
      "metadata": {},
      "outputs": [],
      "source": []
    }
  ],
  "metadata": {
    "kernelspec": {
      "display_name": "Python 3 (ipykernel)",
      "language": "python",
      "name": "python3"
    },
    "language_info": {
      "codemirror_mode": {
        "name": "ipython",
        "version": 3
      },
      "file_extension": ".py",
      "mimetype": "text/x-python",
      "name": "python",
      "nbconvert_exporter": "python",
      "pygments_lexer": "ipython3",
      "version": "3.11.3"
    },
    "noteable": {
      "last_transaction_id": "e7b25178-eca5-41f1-a781-4ee835060af3"
    },
    "selected_hardware_size": "small"
  },
  "nbformat": 4,
  "nbformat_minor": 5
}
